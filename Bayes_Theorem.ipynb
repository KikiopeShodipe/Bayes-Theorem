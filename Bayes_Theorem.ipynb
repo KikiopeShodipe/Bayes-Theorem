{
  "nbformat": 4,
  "nbformat_minor": 0,
  "metadata": {
    "colab": {
      "provenance": [],
      "authorship_tag": "ABX9TyOKV6WUnvUg1MZJiPH0gDY0",
      "include_colab_link": true
    },
    "kernelspec": {
      "name": "python3",
      "display_name": "Python 3"
    },
    "language_info": {
      "name": "python"
    }
  },
  "cells": [
    {
      "cell_type": "markdown",
      "metadata": {
        "id": "view-in-github",
        "colab_type": "text"
      },
      "source": [
        "<a href=\"https://colab.research.google.com/github/KikiopeShodipe/Bayes-Theorem/blob/main/Bayes_Theorem.ipynb\" target=\"_parent\"><img src=\"https://colab.research.google.com/assets/colab-badge.svg\" alt=\"Open In Colab\"/></a>"
      ]
    },
    {
      "cell_type": "code",
      "execution_count": 6,
      "metadata": {
        "colab": {
          "base_uri": "https://localhost:8080/"
        },
        "id": "iEBp1Mz5aOji",
        "outputId": "fb201ff5-0cc7-4e72-d961-afe085e07169"
      },
      "outputs": [
        {
          "output_type": "stream",
          "name": "stdout",
          "text": [
            "Let's calculate thee probability of either having strep throat or not\n",
            "Person has strep throat?\n",
            " 1. Yes \u0002. No\n",
            "Enter your choice(1/2):2\n",
            "Testing positive for strep throat?\n",
            " 1. Yes \u0002. No\n",
            "Enter your choice(1/2):2\n",
            "The probability of not having strep throat 0.8\n",
            "The probability of testing positive yet you don't have strep throat 0.784\n"
          ]
        }
      ],
      "source": [
        "def find_pob(a,b):\n",
        "  if a==1:\n",
        "    prob_a=0.2\n",
        "    if b==1:\n",
        "      prob_bga=0.85\n",
        "    elif b==2:\n",
        "      prob_bga=0.15\n",
        "    else:\n",
        "      print(\"Invalid Choice\")\n",
        "    prob_a_and_b=prob_a*prob_bga\n",
        "    print(\"The probability of having strep throat is:\",prob_bga)\n",
        "    print(\"The probability of testing positive for strep throat is:\",prob_a_and_b)\n",
        "  elif a==2:#not having strep throat\n",
        "    prob_a=0.8\n",
        "    #probability of testing positive\n",
        "    if b==1:\n",
        "      prob_bga=0.02\n",
        "    #no strep throat and not positive\n",
        "    elif b==2:\n",
        "      prob_bga=0.98\n",
        "    else:\n",
        "      print(\"Invalid Choice\")\n",
        "    prob_a_and_b=prob_a*prob_bga\n",
        "    print(\"The probability of not having strep throat\",prob_a)\n",
        "    print(\"The probability of testing positive yet you don't have strep throat\",prob_a_and_b)\n",
        "  else:\n",
        "    print(\"Invalid Choice\")\n",
        "print(\"Let's calculate thee probability of either having strep throat or not\")\n",
        "print(\"Person has strep throat?\\n 1. Yes \\2. No\")\n",
        "a=int(input(\"Enter your choice(1/2):\"))\n",
        "print(\"Testing positive for strep throat?\\n 1. Yes \\2. No\")\n",
        "b=int(input(\"Enter your choice(1/2):\"))\n",
        "find_pob(a,b)\n"
      ]
    }
  ]
}